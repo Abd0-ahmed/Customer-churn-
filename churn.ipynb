{
 "cells": [
  {
   "cell_type": "markdown",
   "metadata": {
    "id": "PK-UE7d9aiQp"
   },
   "source": [
    "# **Telco Customer Churn** ( CRISP-DM Chapter 1)"
   ]
  },
  {
   "cell_type": "markdown",
   "metadata": {
    "id": "ojXJC5VSjLi5"
   },
   "source": [
    "## **. Deployment**"
   ]
  },
  {
   "cell_type": "code",
   "execution_count": null,
   "metadata": {
    "id": "45DNTiSAqqbG"
   },
   "outputs": [],
   "source": [
    "df = pd.read_csv(\n",
    "    \"/content/sample_data/WA_Fn-UseC_-Telco-Customer-Churn.csv\",)  # Path to the CSV file"
   ]
  },
  {
   "cell_type": "code",
   "execution_count": null,
   "metadata": {
    "id": "U30UqclEq8AV"
   },
   "outputs": [],
   "source": [
    "import joblib\n",
    "\n",
    "# Columns for different preprocessing steps\n",
    "label_encode_cols = [\"Partner\", \"Dependents\", \"PhoneService\", \"PaperlessBilling\"]\n",
    "one_hot_encode_cols = [\"MultipleLines\", \"InternetService\", \"OnlineSecurity\", \"OnlineBackup\",\n",
    "                       \"DeviceProtection\", \"TechSupport\", \"StreamingTV\", \"StreamingMovies\",\n",
    "                       \"Contract\", \"PaymentMethod\"]\n",
    "min_max_scale_cols = [\"tenure\", \"MonthlyCharges\", \"TotalCharges\"]"
   ]
  },
  {
   "cell_type": "code",
   "execution_count": null,
   "metadata": {
    "id": "7SPWJ6GKrOqY"
   },
   "outputs": [],
   "source": [
    "# Separate Features and Target\n",
    "# Drop 'customerID' and 'Churn' from the features, keeping 'Churn' as the target\n",
    "X = df.drop(columns=['customerID', 'Churn'])\n",
    "y = df['Churn']"
   ]
  },
  {
   "cell_type": "code",
   "execution_count": null,
   "metadata": {
    "colab": {
     "base_uri": "https://localhost:8080/"
    },
    "id": "LIvqF6zHrQ30",
    "outputId": "34013dde-2933-4bbb-850f-7ef9567c6746"
   },
   "outputs": [
    {
     "name": "stdout",
     "output_type": "stream",
     "text": [
      "Unique values in 'Churn' before encoding: ['No' 'Yes']\n"
     ]
    }
   ],
   "source": [
    "# Debug: Print unique values of target variable before encoding\n",
    "print(\"Unique values in 'Churn' before encoding:\", y.unique())"
   ]
  },
  {
   "cell_type": "code",
   "execution_count": null,
   "metadata": {
    "id": "7jeMpnz2rT28"
   },
   "outputs": [],
   "source": [
    "# Encode the Target Variable\n",
    "# Initialize the LabelEncoder\n",
    "le_target = LabelEncoder()\n",
    "\n",
    "# Fit and transform the target variable 'Churn' to numerical values\n",
    "y = le_target.fit_transform(y)"
   ]
  },
  {
   "cell_type": "code",
   "execution_count": null,
   "metadata": {
    "colab": {
     "base_uri": "https://localhost:8080/"
    },
    "id": "dh8FCbq_rV-1",
    "outputId": "7a3f7c63-237e-4554-80f6-357930290038"
   },
   "outputs": [
    {
     "name": "stdout",
     "output_type": "stream",
     "text": [
      "Unique values in 'Churn' after encoding: [0 0 1 ... 0 1 0]\n"
     ]
    }
   ],
   "source": [
    "# Debug: Print unique values of target variable after encoding\n",
    "print(\"Unique values in 'Churn' after encoding:\", y)"
   ]
  },
  {
   "cell_type": "markdown",
   "metadata": {
    "id": "DX1kDE5MlO_V"
   },
   "source": [
    "**Label Encoder for the Target Variable**"
   ]
  },
  {
   "cell_type": "code",
   "execution_count": null,
   "metadata": {
    "colab": {
     "base_uri": "https://localhost:8080/"
    },
    "id": "cak1q_TXlO6t",
    "outputId": "ca7a48fa-110c-47a3-9c66-9e6f5fe7a195"
   },
   "outputs": [
    {
     "name": "stdout",
     "output_type": "stream",
     "text": [
      "Label encoder for target saved.\n"
     ]
    }
   ],
   "source": [
    "# Save the LabelEncoder for target variable\n",
    "joblib.dump(le_target, 'label_encoder_target.pkl')\n",
    "print(\"Label encoder for target saved.\")"
   ]
  },
  {
   "cell_type": "markdown",
   "metadata": {
    "id": "Csdc_300smlH"
   },
   "source": [
    "**Handle Missing Values and Convert Data Types**"
   ]
  },
  {
   "cell_type": "code",
   "execution_count": null,
   "metadata": {
    "id": "USHIBBhOskhe"
   },
   "outputs": [],
   "source": [
    "# Replace non-numeric values with NaN and fill with the mean of the column\n",
    "X[min_max_scale_cols] = X[min_max_scale_cols].replace(' ', np.nan).astype(float)\n",
    "X[min_max_scale_cols] = X[min_max_scale_cols].fillna(X[min_max_scale_cols].mean())"
   ]
  },
  {
   "cell_type": "markdown",
   "metadata": {
    "id": "ByHKE8kGk8A_"
   },
   "source": [
    "**Saving Label Encoders**"
   ]
  },
  {
   "cell_type": "code",
   "execution_count": null,
   "metadata": {
    "id": "q3XjCdb3qyZx"
   },
   "outputs": [],
   "source": [
    "# **Label Encode Specified Columns**\n",
    "label_encoders = {}\n",
    "for col in label_encode_cols + [\"gender\"]:\n",
    "    le = LabelEncoder()\n",
    "    X[col] = le.fit_transform(X[col])\n",
    "    label_encoders[col] = le"
   ]
  },
  {
   "cell_type": "code",
   "execution_count": null,
   "metadata": {
    "colab": {
     "base_uri": "https://localhost:8080/"
    },
    "id": "jbKiQRKksszV",
    "outputId": "2c18fcf6-79cb-4d5b-948e-5b3a6e44767b"
   },
   "outputs": [
    {
     "name": "stdout",
     "output_type": "stream",
     "text": [
      "Label encoders saved.\n"
     ]
    }
   ],
   "source": [
    "joblib.dump(label_encoders, 'label_encoders.pkl')\n",
    "print(\"Label encoders saved.\")"
   ]
  },
  {
   "cell_type": "markdown",
   "metadata": {
    "id": "kITWxNUok_tI"
   },
   "source": [
    "**Saving One-Hot Encoder**"
   ]
  },
  {
   "cell_type": "code",
   "execution_count": null,
   "metadata": {
    "colab": {
     "base_uri": "https://localhost:8080/"
    },
    "id": "Xu6uVwIfsdDq",
    "outputId": "454f1086-d1c5-4922-832a-2e5ddce9d4d1"
   },
   "outputs": [
    {
     "name": "stderr",
     "output_type": "stream",
     "text": [
      "/usr/local/lib/python3.10/dist-packages/sklearn/preprocessing/_encoders.py:975: FutureWarning: `sparse` was renamed to `sparse_output` in version 1.2 and will be removed in 1.4. `sparse_output` is ignored unless you leave `sparse` to its default value.\n",
      "  warnings.warn(\n"
     ]
    }
   ],
   "source": [
    "# **One-Hot Encode Specified Columns**\n",
    "one_hot_encoder = OneHotEncoder(sparse=False, handle_unknown='ignore')\n",
    "one_hot_encoded = one_hot_encoder.fit_transform(X[one_hot_encode_cols])"
   ]
  },
  {
   "cell_type": "code",
   "execution_count": null,
   "metadata": {
    "colab": {
     "base_uri": "https://localhost:8080/"
    },
    "id": "-KUZ1O_4suvp",
    "outputId": "0aa8bc0e-9094-4968-f8de-bd0bc5c343e1"
   },
   "outputs": [
    {
     "name": "stdout",
     "output_type": "stream",
     "text": [
      "One-hot encoder saved.\n"
     ]
    }
   ],
   "source": [
    "# Save the one-hot encoder\n",
    "joblib.dump(one_hot_encoder, 'one_hot_encoder.pkl')\n",
    "print(\"One-hot encoder saved.\")"
   ]
  },
  {
   "cell_type": "markdown",
   "metadata": {
    "id": "xz7XqOrclBxa"
   },
   "source": [
    "**Saving MinMax Scaler**"
   ]
  },
  {
   "cell_type": "code",
   "execution_count": null,
   "metadata": {
    "id": "0tKDcyW2sdPn"
   },
   "outputs": [],
   "source": [
    "# **Min-Max Scale Specified Columns**\n",
    "min_max_scaler = MinMaxScaler()\n",
    "scaled_numerical = min_max_scaler.fit_transform(X[min_max_scale_cols])"
   ]
  },
  {
   "cell_type": "code",
   "execution_count": null,
   "metadata": {
    "colab": {
     "base_uri": "https://localhost:8080/"
    },
    "id": "baIg8TAmxB-d",
    "outputId": "d73591d4-ee50-4e06-870d-b5ab696b1c58"
   },
   "outputs": [
    {
     "name": "stdout",
     "output_type": "stream",
     "text": [
      "Min-max scaler saved.\n"
     ]
    }
   ],
   "source": [
    "# Save the min-max scaler to a file\n",
    "joblib.dump(min_max_scaler, 'min_max_scaler.pkl')\n",
    "print(\"Min-max scaler saved.\")"
   ]
  },
  {
   "cell_type": "markdown",
   "metadata": {
    "id": "8F7OQIAAsznK"
   },
   "source": [
    "**Combine Processed Columns**"
   ]
  },
  {
   "cell_type": "code",
   "execution_count": null,
   "metadata": {
    "id": "v3muz1l8s0Tt"
   },
   "outputs": [],
   "source": [
    "# Combine label encoded columns, scaled numerical columns, and one-hot encoded columns\n",
    "X_processed = np.hstack((X[label_encode_cols + [\"gender\"]].values, scaled_numerical, one_hot_encoded))"
   ]
  },
  {
   "cell_type": "code",
   "execution_count": null,
   "metadata": {
    "colab": {
     "base_uri": "https://localhost:8080/"
    },
    "id": "0HcuGoCwiSnn",
    "outputId": "ca8fc2dc-a4ce-4cd2-dded-e5c2f7ce37e1"
   },
   "outputs": [
    {
     "data": {
      "text/plain": [
       "array([[1., 0., 0., ..., 0., 1., 0.],\n",
       "       [0., 0., 1., ..., 0., 0., 1.],\n",
       "       [0., 0., 1., ..., 0., 0., 1.],\n",
       "       ...,\n",
       "       [1., 1., 0., ..., 0., 1., 0.],\n",
       "       [1., 0., 1., ..., 0., 0., 1.],\n",
       "       [0., 0., 1., ..., 0., 0., 0.]])"
      ]
     },
     "execution_count": 17,
     "metadata": {},
     "output_type": "execute_result"
    }
   ],
   "source": [
    "X_processed"
   ]
  },
  {
   "cell_type": "code",
   "execution_count": null,
   "metadata": {
    "id": "ThoZjINIs4vL"
   },
   "outputs": [],
   "source": [
    "# **Split Data into Training and Testing Sets**\n",
    "X_train, X_test, y_train, y_test = train_test_split(X_processed, y, test_size=0.2, random_state=42)"
   ]
  },
  {
   "cell_type": "markdown",
   "metadata": {
    "id": "H5ndA24FlHoF"
   },
   "source": [
    "**Saving the Trained Logistic Regression Model**\n"
   ]
  },
  {
   "cell_type": "code",
   "execution_count": null,
   "metadata": {
    "colab": {
     "base_uri": "https://localhost:8080/",
     "height": 74
    },
    "id": "Djk2YRSvsdee",
    "outputId": "0f76c552-d400-4bf7-ee1e-4b6a2c462d3f"
   },
   "outputs": [
    {
     "data": {
      "text/html": [
       "<style>#sk-container-id-1 {color: black;}#sk-container-id-1 pre{padding: 0;}#sk-container-id-1 div.sk-toggleable {background-color: white;}#sk-container-id-1 label.sk-toggleable__label {cursor: pointer;display: block;width: 100%;margin-bottom: 0;padding: 0.3em;box-sizing: border-box;text-align: center;}#sk-container-id-1 label.sk-toggleable__label-arrow:before {content: \"▸\";float: left;margin-right: 0.25em;color: #696969;}#sk-container-id-1 label.sk-toggleable__label-arrow:hover:before {color: black;}#sk-container-id-1 div.sk-estimator:hover label.sk-toggleable__label-arrow:before {color: black;}#sk-container-id-1 div.sk-toggleable__content {max-height: 0;max-width: 0;overflow: hidden;text-align: left;background-color: #f0f8ff;}#sk-container-id-1 div.sk-toggleable__content pre {margin: 0.2em;color: black;border-radius: 0.25em;background-color: #f0f8ff;}#sk-container-id-1 input.sk-toggleable__control:checked~div.sk-toggleable__content {max-height: 200px;max-width: 100%;overflow: auto;}#sk-container-id-1 input.sk-toggleable__control:checked~label.sk-toggleable__label-arrow:before {content: \"▾\";}#sk-container-id-1 div.sk-estimator input.sk-toggleable__control:checked~label.sk-toggleable__label {background-color: #d4ebff;}#sk-container-id-1 div.sk-label input.sk-toggleable__control:checked~label.sk-toggleable__label {background-color: #d4ebff;}#sk-container-id-1 input.sk-hidden--visually {border: 0;clip: rect(1px 1px 1px 1px);clip: rect(1px, 1px, 1px, 1px);height: 1px;margin: -1px;overflow: hidden;padding: 0;position: absolute;width: 1px;}#sk-container-id-1 div.sk-estimator {font-family: monospace;background-color: #f0f8ff;border: 1px dotted black;border-radius: 0.25em;box-sizing: border-box;margin-bottom: 0.5em;}#sk-container-id-1 div.sk-estimator:hover {background-color: #d4ebff;}#sk-container-id-1 div.sk-parallel-item::after {content: \"\";width: 100%;border-bottom: 1px solid gray;flex-grow: 1;}#sk-container-id-1 div.sk-label:hover label.sk-toggleable__label {background-color: #d4ebff;}#sk-container-id-1 div.sk-serial::before {content: \"\";position: absolute;border-left: 1px solid gray;box-sizing: border-box;top: 0;bottom: 0;left: 50%;z-index: 0;}#sk-container-id-1 div.sk-serial {display: flex;flex-direction: column;align-items: center;background-color: white;padding-right: 0.2em;padding-left: 0.2em;position: relative;}#sk-container-id-1 div.sk-item {position: relative;z-index: 1;}#sk-container-id-1 div.sk-parallel {display: flex;align-items: stretch;justify-content: center;background-color: white;position: relative;}#sk-container-id-1 div.sk-item::before, #sk-container-id-1 div.sk-parallel-item::before {content: \"\";position: absolute;border-left: 1px solid gray;box-sizing: border-box;top: 0;bottom: 0;left: 50%;z-index: -1;}#sk-container-id-1 div.sk-parallel-item {display: flex;flex-direction: column;z-index: 1;position: relative;background-color: white;}#sk-container-id-1 div.sk-parallel-item:first-child::after {align-self: flex-end;width: 50%;}#sk-container-id-1 div.sk-parallel-item:last-child::after {align-self: flex-start;width: 50%;}#sk-container-id-1 div.sk-parallel-item:only-child::after {width: 0;}#sk-container-id-1 div.sk-dashed-wrapped {border: 1px dashed gray;margin: 0 0.4em 0.5em 0.4em;box-sizing: border-box;padding-bottom: 0.4em;background-color: white;}#sk-container-id-1 div.sk-label label {font-family: monospace;font-weight: bold;display: inline-block;line-height: 1.2em;}#sk-container-id-1 div.sk-label-container {text-align: center;}#sk-container-id-1 div.sk-container {/* jupyter's `normalize.less` sets `[hidden] { display: none; }` but bootstrap.min.css set `[hidden] { display: none !important; }` so we also need the `!important` here to be able to override the default hidden behavior on the sphinx rendered scikit-learn.org. See: https://github.com/scikit-learn/scikit-learn/issues/21755 */display: inline-block !important;position: relative;}#sk-container-id-1 div.sk-text-repr-fallback {display: none;}</style><div id=\"sk-container-id-1\" class=\"sk-top-container\"><div class=\"sk-text-repr-fallback\"><pre>LogisticRegression(max_iter=1000, random_state=42)</pre><b>In a Jupyter environment, please rerun this cell to show the HTML representation or trust the notebook. <br />On GitHub, the HTML representation is unable to render, please try loading this page with nbviewer.org.</b></div><div class=\"sk-container\" hidden><div class=\"sk-item\"><div class=\"sk-estimator sk-toggleable\"><input class=\"sk-toggleable__control sk-hidden--visually\" id=\"sk-estimator-id-1\" type=\"checkbox\" checked><label for=\"sk-estimator-id-1\" class=\"sk-toggleable__label sk-toggleable__label-arrow\">LogisticRegression</label><div class=\"sk-toggleable__content\"><pre>LogisticRegression(max_iter=1000, random_state=42)</pre></div></div></div></div></div>"
      ],
      "text/plain": [
       "LogisticRegression(max_iter=1000, random_state=42)"
      ]
     },
     "execution_count": 19,
     "metadata": {},
     "output_type": "execute_result"
    }
   ],
   "source": [
    "# **Train the Model**\n",
    "model = LogisticRegression(max_iter=1000, random_state=42)\n",
    "model.fit(X_train, y_train)"
   ]
  },
  {
   "cell_type": "code",
   "execution_count": null,
   "metadata": {
    "colab": {
     "base_uri": "https://localhost:8080/"
    },
    "id": "QPG73cxOtA7q",
    "outputId": "de2ff6db-e1ef-4894-f722-58c9c21f321b"
   },
   "outputs": [
    {
     "name": "stdout",
     "output_type": "stream",
     "text": [
      "model saved as logistic_regression_model.pkl.\n"
     ]
    }
   ],
   "source": [
    "# Save the trained model\n",
    "model_file = 'logistic_regression_model.pkl'\n",
    "joblib.dump(model, model_file)\n",
    "print(f\"model saved as {model_file}.\")"
   ]
  },
  {
   "cell_type": "markdown",
   "metadata": {
    "id": "4Q--4FFDvEB_"
   },
   "source": [
    "\n",
    "###**requirements.txt**\n",
    "\n",
    "\n",
    "\n"
   ]
  },
  {
   "cell_type": "code",
   "execution_count": null,
   "metadata": {
    "colab": {
     "base_uri": "https://localhost:8080/"
    },
    "id": "KYmUlC8Di_EO",
    "outputId": "5c0a2a0d-6b96-4f9e-feca-7f74f26afb54"
   },
   "outputs": [
    {
     "name": "stdout",
     "output_type": "stream",
     "text": [
      "Name: scikit-learn\n",
      "Version: 1.3.2\n",
      "Summary: A set of python modules for machine learning and data mining\n",
      "Home-page: http://scikit-learn.org\n",
      "Author: \n",
      "Author-email: \n",
      "License: new BSD\n",
      "Location: /usr/local/lib/python3.10/dist-packages\n",
      "Requires: joblib, numpy, scipy, threadpoolctl\n",
      "Required-by: bigframes, fastai, imbalanced-learn, librosa, mlxtend, sklearn-pandas, yellowbrick\n"
     ]
    }
   ],
   "source": [
    "pip show scikit-learn"
   ]
  },
  {
   "cell_type": "markdown",
   "metadata": {
    "id": "xm7lxCJFwgAS"
   },
   "source": [
    "*   pandas\n",
    "*   numpy==1.21.5\n",
    "*   scikit-learn==1.2.2\n",
    "*   gradio\n",
    "*   joblib"
   ]
  }
 ],
 "metadata": {
  "colab": {
   "collapsed_sections": [
    "X3f_6RRVitXl",
    "JLUWkWPdbToK",
    "zILILs5Ad8EL",
    "FGvQiyeDeH7e",
    "ojXJC5VSjLi5",
    "4Q--4FFDvEB_"
   ],
   "provenance": []
  },
  "kernelspec": {
   "display_name": "Python 3 (ipykernel)",
   "language": "python",
   "name": "python3"
  },
  "language_info": {
   "codemirror_mode": {
    "name": "ipython",
    "version": 3
   },
   "file_extension": ".py",
   "mimetype": "text/x-python",
   "name": "python",
   "nbconvert_exporter": "python",
   "pygments_lexer": "ipython3",
   "version": "3.9.13"
  }
 },
 "nbformat": 4,
 "nbformat_minor": 1
}
